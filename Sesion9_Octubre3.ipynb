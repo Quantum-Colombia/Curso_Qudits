{
  "nbformat": 4,
  "nbformat_minor": 0,
  "metadata": {
    "colab": {
      "provenance": []
    },
    "kernelspec": {
      "name": "python3",
      "display_name": "Python 3"
    },
    "language_info": {
      "name": "python"
    }
  },
  "cells": [
    {
      "cell_type": "markdown",
      "source": [
        "<a name=\"top\" id=\"top\"></a>\n",
        "\n",
        "<div align=\"center\">\n",
        "    <h1>Representación y Simulación de Circuitos Cuánticos con Qudits en Cirq</h1>\n",
        "    <a href=\"https://github.com/qcrbellor\">Cristian E. Bello</a>\n",
        "    <br>\n",
        "    <i>Departamento de Matemáticas, Universidad Nacional de Colombia</i>\n",
        "    <br>\n",
        "    <i>Medellín, Antioquia, 050034, Colombia</i>\n",
        "    <br>\n",
        "    <br>\n",
        "    <a href=\"https://colab.research.google.com/github/QuantumColombiaUNAL/Curso_Qudits/blob/main/Sesion3_Agosto15.ipynb\" target=\"_parent\">\n",
        "        <img src=\"https://colab.research.google.com/assets/colab-badge.svg\" alt=\"Open In Colab\"/>\n",
        "    </a>\n",
        "</div>"
      ],
      "metadata": {
        "id": "rrnE6Gur_eaw"
      }
    },
    {
      "cell_type": "markdown",
      "source": [
        "<a id=\"1\"></a>\n",
        "# 1. Introducción\n"
      ],
      "metadata": {
        "id": "oTjNoJyXBmG-"
      }
    },
    {
      "cell_type": "markdown",
      "source": [
        "<a id=\"1.1\"></a>\n",
        "## 1.1. Repositorio"
      ],
      "metadata": {
        "id": "G2nEU0h3CErg"
      }
    },
    {
      "cell_type": "markdown",
      "source": [
        "Los notebooks para las sesiones prácticas y teóricas se encuentran disponibles en el repositorio: [https://github.com/QuantumColombiaUNAL/Curso_Qudits](https://github.com/QuantumColombiaUNAL/Curso_Qudits)"
      ],
      "metadata": {
        "id": "HyACJJpNCSvx"
      }
    },
    {
      "cell_type": "markdown",
      "source": [
        "<a id=\"2\"></a>\n",
        "## 2. Framework: Cirq"
      ],
      "metadata": {
        "id": "exdFYJ0pD10c"
      }
    },
    {
      "cell_type": "markdown",
      "source": [
        "Creado por **Google Quantum AI**, Cirq es un framework de Python para crear, editar y ejecutar circuitos cuánticos en simuladores cuánticos y hardware cuántico.\n",
        "\n",
        "- Página principal: https://quantumai.google/cirq\n",
        "- Tutoriales: https://quantumai.google/cirq/start/start\n",
        "- API: https://quantumai.google/reference/python/cirq/all_symbols\n",
        "- Repositorio: https://github.com/quantumlib/Cirq\n",
        "- Instalación:\n",
        "```\n",
        "    pip install cirq\n",
        "```"
      ],
      "metadata": {
        "id": "p4zts8W7EIlr"
      }
    },
    {
      "cell_type": "markdown",
      "source": [
        "<a id=\"3\"></a>\n",
        "## 3. Plataforma: Google Quantum AI"
      ],
      "metadata": {
        "id": "z1HLywWpHWfM"
      }
    },
    {
      "cell_type": "markdown",
      "source": [
        "Google Quantum AI trabaja en el desarrollo de procesadores cuánticos y algoritmos cuánticos. Aunque su acceso es más restringido comparado con otras plataformas, Google ha hecho avances significativos en la computación cuántica, como demostrar la ventaja cuántica. El acceso a las computadoras cuánticas de Google ha sido principalmente a través de colaboraciones académicas y de investigación, a diferencia de otras plataformas, Google no ha ofrecido un acceso público generalizado a sus computadoras cuánticas a través de la nube para individuos o empresas.\n",
        "\n",
        "Utiliza procesadores cuánticos superconductores.\n",
        "\n",
        "- Página principal: https://quantumai.google/"
      ],
      "metadata": {
        "id": "jOtn3B_JHa3e"
      }
    },
    {
      "cell_type": "markdown",
      "source": [
        "<a id=\"4\"></a>\n",
        "# 4. Instalación"
      ],
      "metadata": {
        "id": "yHx3Jq6wH9CO"
      }
    },
    {
      "cell_type": "markdown",
      "source": [
        "Usaremos **Cirq** en esta sesión práctica, debido a que es uno de los frameworks más populares para programación con qudits en computación cuántica."
      ],
      "metadata": {
        "id": "3EUCHaUkH-E8"
      }
    },
    {
      "cell_type": "markdown",
      "source": [
        "<a id=\"4.1\"></a>\n",
        "## 4.1. Ejecución remota"
      ],
      "metadata": {
        "id": "-qFfYgOOINYj"
      }
    },
    {
      "cell_type": "markdown",
      "source": [
        "Es posible ejecutar los notebooks desde ambientes remotos como [Google Colab](https://colab.research.google.com/). Es necesario contar con una cuenta de [Gmail](https://mail.google.com/mail/u/0/) (o compatible).\n",
        "\n",
        "Se sube cada notebook por separado y cuando la sesión sea reiniciada, se debe instalar Cirq:"
      ],
      "metadata": {
        "id": "NOUIxZG4IQd-"
      }
    },
    {
      "cell_type": "code",
      "source": [
        "!pip install cirq"
      ],
      "metadata": {
        "colab": {
          "base_uri": "https://localhost:8080/"
        },
        "collapsed": true,
        "id": "xe0GQy5NJVoO",
        "outputId": "f7a666aa-9a0b-451d-db20-5a9eaf5dca3c"
      },
      "execution_count": 14,
      "outputs": [
        {
          "output_type": "stream",
          "name": "stdout",
          "text": [
            "Requirement already satisfied: cirq in /usr/local/lib/python3.10/dist-packages (1.4.1)\n",
            "Requirement already satisfied: cirq-aqt==1.4.1 in /usr/local/lib/python3.10/dist-packages (from cirq) (1.4.1)\n",
            "Requirement already satisfied: cirq-core==1.4.1 in /usr/local/lib/python3.10/dist-packages (from cirq) (1.4.1)\n",
            "Requirement already satisfied: cirq-google==1.4.1 in /usr/local/lib/python3.10/dist-packages (from cirq) (1.4.1)\n",
            "Requirement already satisfied: cirq-ionq==1.4.1 in /usr/local/lib/python3.10/dist-packages (from cirq) (1.4.1)\n",
            "Requirement already satisfied: cirq-pasqal==1.4.1 in /usr/local/lib/python3.10/dist-packages (from cirq) (1.4.1)\n",
            "Requirement already satisfied: cirq-rigetti==1.4.1 in /usr/local/lib/python3.10/dist-packages (from cirq) (1.4.1)\n",
            "Requirement already satisfied: cirq-web==1.4.1 in /usr/local/lib/python3.10/dist-packages (from cirq) (1.4.1)\n",
            "Requirement already satisfied: requests~=2.18 in /usr/local/lib/python3.10/dist-packages (from cirq-aqt==1.4.1->cirq) (2.32.3)\n",
            "Requirement already satisfied: attrs>=21.3.0 in /usr/local/lib/python3.10/dist-packages (from cirq-core==1.4.1->cirq) (24.2.0)\n",
            "Requirement already satisfied: duet>=0.2.8 in /usr/local/lib/python3.10/dist-packages (from cirq-core==1.4.1->cirq) (0.2.9)\n",
            "Requirement already satisfied: matplotlib~=3.0 in /usr/local/lib/python3.10/dist-packages (from cirq-core==1.4.1->cirq) (3.7.1)\n",
            "Requirement already satisfied: networkx>=2.4 in /usr/local/lib/python3.10/dist-packages (from cirq-core==1.4.1->cirq) (3.3)\n",
            "Requirement already satisfied: numpy~=1.22 in /usr/local/lib/python3.10/dist-packages (from cirq-core==1.4.1->cirq) (1.26.4)\n",
            "Requirement already satisfied: pandas in /usr/local/lib/python3.10/dist-packages (from cirq-core==1.4.1->cirq) (2.2.2)\n",
            "Requirement already satisfied: sortedcontainers~=2.0 in /usr/local/lib/python3.10/dist-packages (from cirq-core==1.4.1->cirq) (2.4.0)\n",
            "Requirement already satisfied: scipy~=1.0 in /usr/local/lib/python3.10/dist-packages (from cirq-core==1.4.1->cirq) (1.13.1)\n",
            "Requirement already satisfied: sympy in /usr/local/lib/python3.10/dist-packages (from cirq-core==1.4.1->cirq) (1.13.3)\n",
            "Requirement already satisfied: typing-extensions>=4.2 in /usr/local/lib/python3.10/dist-packages (from cirq-core==1.4.1->cirq) (4.12.2)\n",
            "Requirement already satisfied: tqdm in /usr/local/lib/python3.10/dist-packages (from cirq-core==1.4.1->cirq) (4.66.5)\n",
            "Requirement already satisfied: google-api-core>=1.14.0 in /usr/local/lib/python3.10/dist-packages (from google-api-core[grpc]>=1.14.0->cirq-google==1.4.1->cirq) (2.19.2)\n",
            "Requirement already satisfied: proto-plus>=1.20.0 in /usr/local/lib/python3.10/dist-packages (from cirq-google==1.4.1->cirq) (1.24.0)\n",
            "Requirement already satisfied: protobuf<5.0.0,>=3.15.0 in /usr/local/lib/python3.10/dist-packages (from cirq-google==1.4.1->cirq) (3.20.3)\n",
            "Requirement already satisfied: pyquil<5.0.0,>=4.11.0 in /usr/local/lib/python3.10/dist-packages (from cirq-rigetti==1.4.1->cirq) (4.14.3)\n",
            "Requirement already satisfied: googleapis-common-protos<2.0.dev0,>=1.56.2 in /usr/local/lib/python3.10/dist-packages (from google-api-core>=1.14.0->google-api-core[grpc]>=1.14.0->cirq-google==1.4.1->cirq) (1.65.0)\n",
            "Requirement already satisfied: google-auth<3.0.dev0,>=2.14.1 in /usr/local/lib/python3.10/dist-packages (from google-api-core>=1.14.0->google-api-core[grpc]>=1.14.0->cirq-google==1.4.1->cirq) (2.27.0)\n",
            "Requirement already satisfied: grpcio<2.0dev,>=1.33.2 in /usr/local/lib/python3.10/dist-packages (from google-api-core[grpc]>=1.14.0->cirq-google==1.4.1->cirq) (1.64.1)\n",
            "Requirement already satisfied: grpcio-status<2.0.dev0,>=1.33.2 in /usr/local/lib/python3.10/dist-packages (from google-api-core[grpc]>=1.14.0->cirq-google==1.4.1->cirq) (1.48.2)\n",
            "Requirement already satisfied: contourpy>=1.0.1 in /usr/local/lib/python3.10/dist-packages (from matplotlib~=3.0->cirq-core==1.4.1->cirq) (1.3.0)\n",
            "Requirement already satisfied: cycler>=0.10 in /usr/local/lib/python3.10/dist-packages (from matplotlib~=3.0->cirq-core==1.4.1->cirq) (0.12.1)\n",
            "Requirement already satisfied: fonttools>=4.22.0 in /usr/local/lib/python3.10/dist-packages (from matplotlib~=3.0->cirq-core==1.4.1->cirq) (4.54.1)\n",
            "Requirement already satisfied: kiwisolver>=1.0.1 in /usr/local/lib/python3.10/dist-packages (from matplotlib~=3.0->cirq-core==1.4.1->cirq) (1.4.7)\n",
            "Requirement already satisfied: packaging>=20.0 in /usr/local/lib/python3.10/dist-packages (from matplotlib~=3.0->cirq-core==1.4.1->cirq) (23.2)\n",
            "Requirement already satisfied: pillow>=6.2.0 in /usr/local/lib/python3.10/dist-packages (from matplotlib~=3.0->cirq-core==1.4.1->cirq) (10.4.0)\n",
            "Requirement already satisfied: pyparsing>=2.3.1 in /usr/local/lib/python3.10/dist-packages (from matplotlib~=3.0->cirq-core==1.4.1->cirq) (3.1.4)\n",
            "Requirement already satisfied: python-dateutil>=2.7 in /usr/local/lib/python3.10/dist-packages (from matplotlib~=3.0->cirq-core==1.4.1->cirq) (2.8.2)\n",
            "Requirement already satisfied: deprecated<2.0.0,>=1.2.14 in /usr/local/lib/python3.10/dist-packages (from pyquil<5.0.0,>=4.11.0->cirq-rigetti==1.4.1->cirq) (1.2.14)\n",
            "Requirement already satisfied: matplotlib-inline<0.2.0,>=0.1.7 in /usr/local/lib/python3.10/dist-packages (from pyquil<5.0.0,>=4.11.0->cirq-rigetti==1.4.1->cirq) (0.1.7)\n",
            "Requirement already satisfied: qcs-sdk-python>=0.20.1 in /usr/local/lib/python3.10/dist-packages (from pyquil<5.0.0,>=4.11.0->cirq-rigetti==1.4.1->cirq) (0.20.1)\n",
            "Requirement already satisfied: quil>=0.11.2 in /usr/local/lib/python3.10/dist-packages (from pyquil<5.0.0,>=4.11.0->cirq-rigetti==1.4.1->cirq) (0.12.1)\n",
            "Requirement already satisfied: rpcq<4.0.0,>=3.11.0 in /usr/local/lib/python3.10/dist-packages (from pyquil<5.0.0,>=4.11.0->cirq-rigetti==1.4.1->cirq) (3.11.0)\n",
            "Requirement already satisfied: types-deprecated<2.0.0.0,>=1.2.9.3 in /usr/local/lib/python3.10/dist-packages (from pyquil<5.0.0,>=4.11.0->cirq-rigetti==1.4.1->cirq) (1.2.9.20240311)\n",
            "Requirement already satisfied: charset-normalizer<4,>=2 in /usr/local/lib/python3.10/dist-packages (from requests~=2.18->cirq-aqt==1.4.1->cirq) (3.3.2)\n",
            "Requirement already satisfied: idna<4,>=2.5 in /usr/local/lib/python3.10/dist-packages (from requests~=2.18->cirq-aqt==1.4.1->cirq) (3.10)\n",
            "Requirement already satisfied: urllib3<3,>=1.21.1 in /usr/local/lib/python3.10/dist-packages (from requests~=2.18->cirq-aqt==1.4.1->cirq) (2.2.3)\n",
            "Requirement already satisfied: certifi>=2017.4.17 in /usr/local/lib/python3.10/dist-packages (from requests~=2.18->cirq-aqt==1.4.1->cirq) (2024.8.30)\n",
            "Requirement already satisfied: pytz>=2020.1 in /usr/local/lib/python3.10/dist-packages (from pandas->cirq-core==1.4.1->cirq) (2024.2)\n",
            "Requirement already satisfied: tzdata>=2022.7 in /usr/local/lib/python3.10/dist-packages (from pandas->cirq-core==1.4.1->cirq) (2024.2)\n",
            "Requirement already satisfied: mpmath<1.4,>=1.1.0 in /usr/local/lib/python3.10/dist-packages (from sympy->cirq-core==1.4.1->cirq) (1.3.0)\n",
            "Requirement already satisfied: wrapt<2,>=1.10 in /usr/local/lib/python3.10/dist-packages (from deprecated<2.0.0,>=1.2.14->pyquil<5.0.0,>=4.11.0->cirq-rigetti==1.4.1->cirq) (1.16.0)\n",
            "Requirement already satisfied: cachetools<6.0,>=2.0.0 in /usr/local/lib/python3.10/dist-packages (from google-auth<3.0.dev0,>=2.14.1->google-api-core>=1.14.0->google-api-core[grpc]>=1.14.0->cirq-google==1.4.1->cirq) (5.5.0)\n",
            "Requirement already satisfied: pyasn1-modules>=0.2.1 in /usr/local/lib/python3.10/dist-packages (from google-auth<3.0.dev0,>=2.14.1->google-api-core>=1.14.0->google-api-core[grpc]>=1.14.0->cirq-google==1.4.1->cirq) (0.4.1)\n",
            "Requirement already satisfied: rsa<5,>=3.1.4 in /usr/local/lib/python3.10/dist-packages (from google-auth<3.0.dev0,>=2.14.1->google-api-core>=1.14.0->google-api-core[grpc]>=1.14.0->cirq-google==1.4.1->cirq) (4.9)\n",
            "Requirement already satisfied: traitlets in /usr/local/lib/python3.10/dist-packages (from matplotlib-inline<0.2.0,>=0.1.7->pyquil<5.0.0,>=4.11.0->cirq-rigetti==1.4.1->cirq) (5.7.1)\n",
            "Requirement already satisfied: six>=1.5 in /usr/local/lib/python3.10/dist-packages (from python-dateutil>=2.7->matplotlib~=3.0->cirq-core==1.4.1->cirq) (1.16.0)\n",
            "Requirement already satisfied: qcs-api-client-common>=0.10.0 in /usr/local/lib/python3.10/dist-packages (from qcs-sdk-python>=0.20.1->pyquil<5.0.0,>=4.11.0->cirq-rigetti==1.4.1->cirq) (0.10.0)\n",
            "Requirement already satisfied: msgpack<2.0,>=0.6 in /usr/local/lib/python3.10/dist-packages (from rpcq<4.0.0,>=3.11.0->pyquil<5.0.0,>=4.11.0->cirq-rigetti==1.4.1->cirq) (1.0.8)\n",
            "Requirement already satisfied: python-rapidjson in /usr/local/lib/python3.10/dist-packages (from rpcq<4.0.0,>=3.11.0->pyquil<5.0.0,>=4.11.0->cirq-rigetti==1.4.1->cirq) (1.20)\n",
            "Requirement already satisfied: pyzmq>=17 in /usr/local/lib/python3.10/dist-packages (from rpcq<4.0.0,>=3.11.0->pyquil<5.0.0,>=4.11.0->cirq-rigetti==1.4.1->cirq) (24.0.1)\n",
            "Requirement already satisfied: ruamel.yaml in /usr/local/lib/python3.10/dist-packages (from rpcq<4.0.0,>=3.11.0->pyquil<5.0.0,>=4.11.0->cirq-rigetti==1.4.1->cirq) (0.18.6)\n",
            "Requirement already satisfied: pyasn1<0.7.0,>=0.4.6 in /usr/local/lib/python3.10/dist-packages (from pyasn1-modules>=0.2.1->google-auth<3.0.dev0,>=2.14.1->google-api-core>=1.14.0->google-api-core[grpc]>=1.14.0->cirq-google==1.4.1->cirq) (0.6.1)\n",
            "Requirement already satisfied: grpc-interceptor>=0.15.0 in /usr/local/lib/python3.10/dist-packages (from qcs-api-client-common>=0.10.0->qcs-sdk-python>=0.20.1->pyquil<5.0.0,>=4.11.0->cirq-rigetti==1.4.1->cirq) (0.15.4)\n",
            "Requirement already satisfied: httpx>=0.27.0 in /usr/local/lib/python3.10/dist-packages (from qcs-api-client-common>=0.10.0->qcs-sdk-python>=0.20.1->pyquil<5.0.0,>=4.11.0->cirq-rigetti==1.4.1->cirq) (0.27.2)\n",
            "Requirement already satisfied: ruamel.yaml.clib>=0.2.7 in /usr/local/lib/python3.10/dist-packages (from ruamel.yaml->rpcq<4.0.0,>=3.11.0->pyquil<5.0.0,>=4.11.0->cirq-rigetti==1.4.1->cirq) (0.2.8)\n",
            "Requirement already satisfied: anyio in /usr/local/lib/python3.10/dist-packages (from httpx>=0.27.0->qcs-api-client-common>=0.10.0->qcs-sdk-python>=0.20.1->pyquil<5.0.0,>=4.11.0->cirq-rigetti==1.4.1->cirq) (3.7.1)\n",
            "Requirement already satisfied: httpcore==1.* in /usr/local/lib/python3.10/dist-packages (from httpx>=0.27.0->qcs-api-client-common>=0.10.0->qcs-sdk-python>=0.20.1->pyquil<5.0.0,>=4.11.0->cirq-rigetti==1.4.1->cirq) (1.0.6)\n",
            "Requirement already satisfied: sniffio in /usr/local/lib/python3.10/dist-packages (from httpx>=0.27.0->qcs-api-client-common>=0.10.0->qcs-sdk-python>=0.20.1->pyquil<5.0.0,>=4.11.0->cirq-rigetti==1.4.1->cirq) (1.3.1)\n",
            "Requirement already satisfied: h11<0.15,>=0.13 in /usr/local/lib/python3.10/dist-packages (from httpcore==1.*->httpx>=0.27.0->qcs-api-client-common>=0.10.0->qcs-sdk-python>=0.20.1->pyquil<5.0.0,>=4.11.0->cirq-rigetti==1.4.1->cirq) (0.14.0)\n",
            "Requirement already satisfied: exceptiongroup in /usr/local/lib/python3.10/dist-packages (from anyio->httpx>=0.27.0->qcs-api-client-common>=0.10.0->qcs-sdk-python>=0.20.1->pyquil<5.0.0,>=4.11.0->cirq-rigetti==1.4.1->cirq) (1.2.2)\n"
          ]
        }
      ]
    },
    {
      "cell_type": "markdown",
      "source": [
        "<a id=\"5\"></a>\n",
        "# 5. Qudits"
      ],
      "metadata": {
        "id": "nJgAfLXpIbME"
      }
    },
    {
      "cell_type": "markdown",
      "source": [
        "Ya hemos trabajado con qubits, sistemas cuánticos de $2$ niveles. Veremos como es posible definir sistemas de mayor dimensión. Un ***qudit*** es la generalización de un qubit a un sistema de ***d*** niveles o ***d*** dimensiones.\n",
        "\n",
        "**Ejemplo:**\n",
        "\n",
        "1.   Superposición de dos estados base para un qubit. $|\\psi\\rangle=\\alpha|0\\rangle+\\beta|1\\rangle$\n",
        "2.   Superposición de tres estados base para un ***qudit***: $|\\psi\\rangle=\\alpha|0\\rangle+\\beta|1\\rangle+\\gamma|2\\rangle$\n",
        "\n",
        "\n",
        "Un **qubit** tiene dimensión $2$, un **qutrit** tiene dimensión $3$, un **ququart** tiene dimensión $4$, y así sucesivamente.\n",
        "\n",
        "En Cirq, los qudits funcionan exactamente igual que los qubits, salvo que tienen un atributo `dimension` distinto de $2$, y sólo pueden utilizarse con puertas específicas de esa dimensión. En cirq, tanto los qubits como los qudits son subclases de la clase `cirq.Qid`. Para aplicar una compuerta a qudits, las dimensiones de los qudits deben coincidir con las dimensiones sobre las que trabaja.\n",
        "\n",
        "**Ejemplo:** consideremos la puerta que representa una evolución unitaria sobre tres qudits, además que hay un qubit, y dos qutrits. Entonces la «qid shape» de la puerta es `(2, 3, 3)` y el método `on` acepta exactamente $3$ `Qid` con dimensión $2$, $3$, y $3$, respectivamente."
      ],
      "metadata": {
        "id": "torWBz4XJGCh"
      }
    },
    {
      "cell_type": "code",
      "source": [
        "import cirq\n",
        "import numpy as np\n",
        "\n",
        "class QutritPlusGate(cirq.Gate):\n",
        "    \"\"\"Una puerta que suma uno a la base incial de un qutrit.\n",
        "\n",
        "    Esta puerta actúa en sistemas de tres niveles. En la base computacional de\n",
        "    este sistema se ejecuta la transformación U|x〉 = |x + 1 mod 3〉, es\n",
        "    decir, U|0〉 = |1〉, U|1〉 = |2〉, y U|2> = |0〉.\n",
        "    \"\"\"\n",
        "\n",
        "    def _qid_shape_(self):\n",
        "        # Al aplicar este método, se implementa el protocolo\n",
        "        # cirq.qid_shape y devuelve la tupla (3,) cuando cirq.qid_shape actúa\n",
        "        # sobre una instancia de la clase. La puerta actúa sobre un único qutrit.\n",
        "        return (3,)\n",
        "\n",
        "    def _unitary_(self):\n",
        "        # Como la puerta actúa sobre sistemas de tres niveles tiene un efecto unitario\n",
        "        # En efecto, es una matriz unitaria tres por tres.\n",
        "        return np.array([[0, 0, 1],\n",
        "                         [1, 0, 0],\n",
        "                         [0, 1, 0]])\n",
        "\n",
        "    def _circuit_diagram_info_(self, args):\n",
        "        return '[+1]'\n",
        "\n",
        "# Creamos un qutrit.\n",
        "q0 = cirq.LineQid(0, dimension=3)\n",
        "\n",
        "# Aplicamos la puerta a este qutrit.\n",
        "circuit = cirq.Circuit(\n",
        "    QutritPlusGate().on(q0)\n",
        ")\n",
        "\n",
        "# Qutrit etiquetado con su dimensión.\n",
        "print(circuit)"
      ],
      "metadata": {
        "colab": {
          "base_uri": "https://localhost:8080/"
        },
        "id": "VBiH5pg4J2Kd",
        "outputId": "67f3f897-2425-4439-dbb7-e43e6c66515f"
      },
      "execution_count": 15,
      "outputs": [
        {
          "output_type": "stream",
          "name": "stdout",
          "text": [
            "0 (d=3): ───[+1]───\n"
          ]
        }
      ]
    },
    {
      "cell_type": "markdown",
      "source": [
        "<a id=\"6\"></a>\n",
        "# 6. Representación"
      ],
      "metadata": {
        "id": "_hGcqVqLKKsf"
      }
    },
    {
      "cell_type": "markdown",
      "source": [
        "## 6.1. cirq.Qid\n",
        "\n",
        "`cirq.Qid` es la clase que representa tanto qubits como qudits en Cirq.\n",
        "\n",
        "Cirq incorpora las clases de qubit, `cirq.NamedQubit`, `cirq.GridQubit`, y `cirq.LineQubit`, también proporciona los tipos `cirq.Qid`:\n",
        "\n",
        "- `cirq.NamedQid`\n",
        "  - **Ejemplo:** Crea un qutrit llamado '**a**' especificando la dimensión: `cirq.NamedQid('a', dimension=3)`.\n",
        "- `cirq.GridQid`\n",
        "  - **Ejemplo:** Crea un qutrit en la posición (2, 0) especificando la dimensión: `cirq.GridQid(2, 0, dimension=3)`.\n",
        "  - **Ejemplo:** Se pueden crear regiones de `cirq.GridQid`. Para crear una cuadrícula $2$ x $2$ de ququarts, se utiliza `cirq.GridQid.rect(2, 2, dimension=4)`.\n",
        "- `cirq.LineQid`\n",
        "  - **Ejemplo:** Crea un qutrit en la posición $1$ de la línea especificando la dimensión: `cirq.LineQid(0, dimension=3)`.\n",
        "  - **Ejemplo:** Se pueden crear rangos de `cirq.LineQid`s. Por ejemplo, para crear qutrits en una línea con ubicaciones de $0$ a $4$, se utiliza `cirq.LineQid.range(5, dimension=3)`.\n",
        "  \n",
        "Por defecto, las clases `cirq.Qid` en cirq serán qubits a menos que su parámetro `dimension` se especifique en la creación. Así, un `cirq.Qid` como `cirq.NamedQid('a')` es un qubit."
      ],
      "metadata": {
        "id": "9MDNhcwXKekl"
      }
    },
    {
      "cell_type": "markdown",
      "source": [
        "## 6.2. Protocolo: `cirq.qid_shape`\n",
        "\n",
        "Las puertas cuánticas, operaciones y otros tipos que actúan sobre una secuencia de qudits pueden especificar la dimensión de cada qudit sobre el que actúan implementando el método `_qid_shape_`.  Este método devuelve una tupla de enteros correspondiente a la dimensión requerida de cada qudit sobre el que opera, por ejemplo `(2, 3, 3)` significa un objeto que actúa sobre un qubit, un qutrit y otro qutrit.  Cuando se especifica `_qid_shape_` decimos que el objeto implementa el protocolo `qid_shape`.\n",
        "\n",
        "Cuando se utilizan `cirq.Qid`s con `cirq.Gate`s, `cirq.Operation`s, y `cirq.Circuit`s, la dimensión de cada qid debe coincidir con la entrada correspondiente en la forma qid. En caso contrario, se produce un error.\n",
        "\n",
        "Se puede consultar la forma `Qid` de un objeto o de una lista de `Qid` llamando a `cirq.qid_shape`. Por defecto, `cirq.qid_shape` devolverá la forma `Qid` equivalente para qubits si `_qid_shape_` no está definida.  En particular, para una puerta de sólo qubits, la forma `Qid` es una tupla que contiene un $2$ por cada qubit, por ejemplo `(2,) * cirq.num_qubits(puerta)`."
      ],
      "metadata": {
        "id": "_aU4urQ0KgC5"
      }
    },
    {
      "cell_type": "code",
      "source": [
        "# Crea una instancia de la puerta qutrit.\n",
        "gate = QutritPlusGate()\n",
        "\n",
        "# Verifica que actúa sobre un único qutrit.\n",
        "print(cirq.qid_shape(gate))"
      ],
      "metadata": {
        "colab": {
          "base_uri": "https://localhost:8080/"
        },
        "id": "nRNpBADPKjnP",
        "outputId": "9f17f578-db7e-438c-c58b-25c99038998e"
      },
      "execution_count": 16,
      "outputs": [
        {
          "output_type": "stream",
          "name": "stdout",
          "text": [
            "(3,)\n"
          ]
        }
      ]
    },
    {
      "cell_type": "markdown",
      "source": [
        "## 6.3. Estados unitarios, mixtos y canales en qudits\n",
        "\n",
        "Los métodos `_unitary_`, `_apply_unitary_`, `_mixture_`, y `_kraus_` se pueden utilizar para definir puertas unitarias, mixtas, y los canales se pueden utilizar con qudits.\n",
        "\n",
        "Dado que el espacio de estados para qudits para $d>2$ viven en espacios dimensionales más grandes, los objetos correspondientes devueltos por estos métodos son de dimensión superior."
      ],
      "metadata": {
        "id": "HwmX8TtPKyRL"
      }
    },
    {
      "cell_type": "code",
      "source": [
        "# Crea una instancia de la puerta qutrit. Esta puerta implementa _unitary_.\n",
        "gate = QutritPlusGate()\n",
        "\n",
        "# Como actúa sobre qutrits, su unitario es una matriz de 3 x 3.\n",
        "print(cirq.unitary(gate))"
      ],
      "metadata": {
        "colab": {
          "base_uri": "https://localhost:8080/"
        },
        "id": "xvV1kB_8J7r4",
        "outputId": "80f112b9-325f-41dd-82ec-774705b50f97"
      },
      "execution_count": 17,
      "outputs": [
        {
          "output_type": "stream",
          "name": "stdout",
          "text": [
            "[[0 0 1]\n",
            " [1 0 0]\n",
            " [0 1 0]]\n"
          ]
        }
      ]
    },
    {
      "cell_type": "markdown",
      "source": [
        "Para una puerta de un solo qubit, su unitario es una matriz de $2$ x $2$, mientras que para una puerta de un qutrit unitario es una matriz de $3$ x $3$.  Una puerta de dos qutrits tendrá un unitario que es una matriz de $9$ x $9$ ($3 * 3 = 9$) y una puerta qubit-quart tendrá un unitario que es una matriz de $8$ x $8$ ($2 * 4 = 8$)."
      ],
      "metadata": {
        "id": "Qiz1PlauK7VZ"
      }
    },
    {
      "cell_type": "markdown",
      "source": [
        "<a id=\"7\"></a>\n",
        "# 7. Simulación de qudits"
      ],
      "metadata": {
        "id": "5bWjqzinLJC9"
      }
    },
    {
      "cell_type": "markdown",
      "source": [
        "Los simuladores de Cirq pueden utilizarse para simular o muestrear circuitos que actúan sobre qudits.\n",
        "\n",
        "Simuladores como `cirq.Simulator` y `cirq.DensityMatrixSimulator` devolverán resultados de simulación con estados más grandes que el circuito qubit del mismo tamaño cuando se simulan circuitos qudit. El tamaño del estado devuelto viene determinado por el producto de las dimensiones de los qudits simulados. Por ejemplo, la salida del vector de estado de `cirq.Simulator` después de simular un circuito en un qubit, un qutrit, y un qutrit tendrá $2 * 3 * 3 = 18$ elementos. Se puede llamar a `cirq.qid_shape(simulation_result)` para comprobar las dimensiones del qudit."
      ],
      "metadata": {
        "id": "sGmSNXkZLK8s"
      }
    },
    {
      "cell_type": "code",
      "source": [
        "# Crea un circuito\n",
        "q0 = cirq.LineQid(0, dimension=3)\n",
        "circuit = cirq.Circuit(QutritPlusGate()(q0))\n",
        "\n",
        "# Realiza la simulación de este circuito.\n",
        "sim = cirq.Simulator()\n",
        "result = sim.simulate(circuit)\n",
        "\n",
        "# Verifica que el estado devuelto es el de un qutrit.\n",
        "print(cirq.qid_shape(result))"
      ],
      "metadata": {
        "colab": {
          "base_uri": "https://localhost:8080/"
        },
        "id": "D1UeMa9F7dW7",
        "outputId": "9dbf4742-ab8c-4fba-d9ad-858be4988622"
      },
      "execution_count": 18,
      "outputs": [
        {
          "output_type": "stream",
          "name": "stdout",
          "text": [
            "(3,)\n"
          ]
        }
      ]
    },
    {
      "cell_type": "markdown",
      "source": [
        "Se supone que los circuitos en qudits siempre empiezan en el estado de base computacional $|0\\rangle$, y se supone que todos los estados de base computacional de un qudit son $|0\\rangle$, $|1\\rangle$, ..., $|d-1\\rangle$.  En consecuencia, se supone que las mediciones de los qudits están en la base de cálculo y para cada qudit devuelven un número entero correspondiente a estos estados de base.  Así, se supone que los resultados de las mediciones de cada qudits van de $0$ a $d-1$."
      ],
      "metadata": {
        "id": "SjTGYodgdFcQ"
      }
    },
    {
      "cell_type": "code",
      "source": [
        "# Crea un circuito con tres puertas qutrit.\n",
        "q0, q1 = cirq.LineQid.range(2, dimension=3)\n",
        "circuit = cirq.Circuit([\n",
        "    QutritPlusGate()(q0),\n",
        "    QutritPlusGate()(q1),\n",
        "    QutritPlusGate()(q1),\n",
        "    cirq.measure(q0, q1, key=\"x\")\n",
        "])\n",
        "\n",
        "# Muestra de este circuito.\n",
        "result = cirq.sample(circuit, repetitions=3)\n",
        "\n",
        "# Muestra el resultado\n",
        "print(result)"
      ],
      "metadata": {
        "colab": {
          "base_uri": "https://localhost:8080/"
        },
        "id": "CTR6dAIr7mJN",
        "outputId": "2b670720-c994-408b-8bfa-09f9ea5bde88"
      },
      "execution_count": 19,
      "outputs": [
        {
          "output_type": "stream",
          "name": "stdout",
          "text": [
            "x=111, 222\n"
          ]
        }
      ]
    },
    {
      "cell_type": "markdown",
      "source": [
        "<div align=\"center\">\n",
        "    <a href=\"#top\">🔝 Volver al inicio 🔝</a>\n",
        "</div>"
      ],
      "metadata": {
        "id": "mNPSnb1cjYvK"
      }
    }
  ]
}